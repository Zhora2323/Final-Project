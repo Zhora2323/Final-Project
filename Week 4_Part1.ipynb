{
 "cells": [
  {
   "cell_type": "markdown",
   "metadata": {},
   "source": [
    "# Capstone-Project-The-Battle-of-Neighborhoods \n",
    "\n",
    "# Introduction\n",
    "Yekaterinburg's demographics show that it is a one of the most poplous cities in Russia. It is the fourth's largest city in the Russia and the second-largest city in Siberia. The population of roughly 1.5 million residents up to 2.2 million residents in the urban agglomeration. Over the last decade the city has been growing faster than the region. The consumer market contributes significantly to Yekaterinburg's economy. Revenue of retail stores in 2015 amounted to 725.9 billion rubles which is roughly 9 billion dollars. As of 1 January 2016, 36 shopping centers operate in the city. The network of catering enterprises in Yekaterinburg is presented as follows: 153 restaurants, 210 bars, 445 cafes, 100 coffee houses, 582 dining rooms, 189 eateries, 173 fast-food establishments, 10 tea shops, 319 other types of institutions.\n",
    "\n",
    "This final project explores the best locations for Italian restaurants throughout the Yekaternburg area. During recent years many new cafés and restaurants have opened in Yekaterinburg, providing the usual mix of Russian/Japanese and Italian food; but unfortunately the level of international cuisine is not that high. Since the amount of international cousines is at the low level and the revenue from catering enteprices has been growing in the recent years, opening a new Italian restaurant can have great success and consistent profit. The location of the restaurant is one of the most important factors that will affect whether it will have success or a failure. The project will attempt to answer that question.\n",
    "\n",
    "# Data\n",
    "In order to answer the above questions, data on Yekaterinburg neighborhoods, boroughs to include boundaries, latitude, longitude, restaurants, and restaurant ratings and tips are required.\n",
    "\n",
    "Yekaterinburg data containing the neighborhoods and boroughs, latitudes, and longitudes will be obtained from the data source: https://public.opendatasoft.com/explore/dataset/geonames-all-cities-with-a-population-1000/download/?format=json&disjunctive.country=true&q=yekaterinburg&timezone=America/Chicago&lang=en\n",
    "\n",
    "All data related to locations and quality of Italian restaurants will be obtained via the FourSquare API utilized via the Request library in Python.\n",
    "\n",
    "# Methodology\n",
    "• Data will be collected from https://public.opendatasoft.com/explore/dataset/geonames-all-cities-with-a-population-1000/download/?format=json&disjunctive.country=true&q=yekaterinburg&timezone=America/Chicago&lang=en and cleaned and processed into a dataframe.\n",
    "\n",
    "• FourSquare be used to locate all venues and then filtered by Italian restaurants. Ratings, tips, and likes by users will be counted and added to the dataframe.\n",
    "\n",
    "• Data will be sorted based on rankings.\n",
    "\n",
    "• Finally, the data will be visually assessed using graphing from Python libraries.\n",
    "\n",
    "# Problem Statement\n",
    "What is the best location for Japanese cuisine in Yekaternburg?"
   ]
  },
  {
   "cell_type": "code",
   "execution_count": null,
   "metadata": {},
   "outputs": [],
   "source": []
  },
  {
   "cell_type": "code",
   "execution_count": null,
   "metadata": {},
   "outputs": [],
   "source": []
  }
 ],
 "metadata": {
  "kernelspec": {
   "display_name": "",
   "name": ""
  },
  "language_info": {
   "name": ""
  }
 },
 "nbformat": 4,
 "nbformat_minor": 4
}

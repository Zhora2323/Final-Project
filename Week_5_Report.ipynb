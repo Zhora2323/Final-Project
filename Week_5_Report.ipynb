{
 "cells": [
  {
   "cell_type": "markdown",
   "metadata": {},
   "source": [
    "# Capstone Project: The Battle of Neighborhoods \n",
    "\n",
    "# Introduction\n",
    "New York's demographics show that it is a one of the populous cities in United States. New York has the largest metropolean area in the world by urban landmass. With almost 20 million people in its metrolpolian statistical area and approximately 23 million in its combined statistical area, it is one of the world's most populous megacities. Over the last decade the city has been growing faster than the region. The consumer market contributes significantly to New York's economy. New York City's food culture includes an array of international cuisines influenced by the city's immigrant history. Since the New York metropolitan area continues to be by far the leading metropolitan gateway for Russian immigrants, Russian cousine had become very popular in New York.\n",
    "\n",
    "This final project explores the best locations for Russian restaurants throughout the New York area. During recent years many new cafés and restaurants have opened in New York area, providing the usual mix of Russiann food; but unfortunately the level of Russian cuisine is not that high. Since the amount of Russian restaurants is at the low level and the revenue from catering enteprices has been growing in the recent years, opening a new Russian restaurant can have great success and consistent profit. The location of the restaurant is one of the most important factors that will affect whether it will have success or a failure. The project will attempt to answer that question.\n",
    "\n",
    "# Data\n",
    "In order to answer the above questions, data on New York neighborhoods, boroughs to include boundaries, latitude, longitude, restaurants, and restaurant ratings and tips are required.\n",
    "\n",
    "New York data containing the neighborhoods and boroughs, latitudes, and longitudes will be obtained from the data source: https://cocl.us/new_york_dataset\n",
    "\n",
    "All data related to locations and quality of Russian restaurants will be obtained via the FourSquare API utilized via the Request library in Python.\n",
    "\n",
    "# Methodology\n",
    "• Data will be collected from  https://cocl.us/new_york_dataset and cleaned and processed into a dataframe.\n",
    "\n",
    "• FourSquare be used to locate all venues and then filtered by Russian restaurants. Ratings, tips, and likes by users will be counted and added to the dataframe.\n",
    "\n",
    "• Data will be sorted based on rankings.\n",
    "\n",
    "• Finally, the data will be visually assessed using graphing from Python libraries.\n",
    "\n",
    "# Problem Statement\n",
    "What is the best location for Russian cuisine in New York?\n",
    "\n",
    "# Results\n",
    "\n",
    "Brooklyn has the most rated Russian resturants in the area. Brooklyn also has the most number of Russian reustarants per borough. Staten Island has one Russian resurant in the area, however there is not much information about that restaurant regarding the rating.\n",
    "\n",
    "# Discussion\n",
    "\n",
    "To have the successfull business, I would open a Russian restaurant in Brooklyn. Brooklyn has multiple neighborhoods with approximate rating of 8.0. Moreover, since the Brooklyn neighborhood is known for high population of Russian-speaking imjgrants, opening the resutrant in that area would attract many Russians locals as well as other visitors interested un Russian cousine.\n",
    "\n",
    "# Conclusion\n",
    "\n",
    "In conlusion, I would say that Brooklyn would be the best location to open the restaurant for the Russian cousine in NYC based on the naumber of resturatns and the ratings. "
   ]
  },
  {
   "cell_type": "code",
   "execution_count": null,
   "metadata": {},
   "outputs": [],
   "source": []
  }
 ],
 "metadata": {
  "kernelspec": {
   "display_name": "Python 3",
   "language": "python",
   "name": "python3"
  },
  "language_info": {
   "codemirror_mode": {
    "name": "ipython",
    "version": 3
   },
   "file_extension": ".py",
   "mimetype": "text/x-python",
   "name": "python",
   "nbconvert_exporter": "python",
   "pygments_lexer": "ipython3",
   "version": "3.8.5"
  }
 },
 "nbformat": 4,
 "nbformat_minor": 4
}
